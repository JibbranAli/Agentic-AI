{
 "cells": [
  {
   "cell_type": "code",
   "execution_count": 1,
   "id": "c56fbe59-2044-434f-92dd-8ea8c72fb84c",
   "metadata": {},
   "outputs": [],
   "source": [
    "import gradio as gr"
   ]
  },
  {
   "cell_type": "code",
   "execution_count": 2,
   "id": "9b9f9a26-802f-4a58-8b44-6c41beb4ef0e",
   "metadata": {},
   "outputs": [],
   "source": [
    "import fitz "
   ]
  },
  {
   "cell_type": "code",
   "execution_count": 3,
   "id": "11579e74-fd5e-4af0-ad62-8142c68d7f10",
   "metadata": {},
   "outputs": [],
   "source": [
    "import google.generativeai as genai"
   ]
  },
  {
   "cell_type": "code",
   "execution_count": 4,
   "id": "3c52a33c-a16f-48c9-8f39-ffbf9b736feb",
   "metadata": {},
   "outputs": [],
   "source": [
    "genai.configure(api_key='xxxxxxxx')"
   ]
  },
  {
   "cell_type": "code",
   "execution_count": null,
   "id": "a8df9f81-02a5-42c5-95f1-285151179cfe",
   "metadata": {},
   "outputs": [],
   "source": []
  },
  {
   "cell_type": "code",
   "execution_count": null,
   "id": "3eb1b3aa-7945-4c64-befe-dd0d38eeef2e",
   "metadata": {},
   "outputs": [],
   "source": []
  },
  {
   "cell_type": "code",
   "execution_count": null,
   "id": "1ed5d0cd-96cf-4253-99b2-9f0fcd599a3b",
   "metadata": {},
   "outputs": [],
   "source": []
  },
  {
   "cell_type": "code",
   "execution_count": null,
   "id": "c55b3b68-bcf8-4aad-bd1e-df61f8f1c04c",
   "metadata": {},
   "outputs": [],
   "source": []
  },
  {
   "cell_type": "code",
   "execution_count": null,
   "id": "c36e13bf-4497-4830-942c-2bc46bc90402",
   "metadata": {},
   "outputs": [],
   "source": []
  },
  {
   "cell_type": "code",
   "execution_count": null,
   "id": "b6fbe5ad-0769-4e4a-ab1e-44106306959b",
   "metadata": {},
   "outputs": [],
   "source": []
  },
  {
   "cell_type": "code",
   "execution_count": null,
   "id": "61492564-22d4-4c59-838a-399fd5445c96",
   "metadata": {},
   "outputs": [],
   "source": []
  },
  {
   "cell_type": "code",
   "execution_count": null,
   "id": "c66bd1cc-871e-4b96-a605-611c72a862d4",
   "metadata": {},
   "outputs": [],
   "source": []
  },
  {
   "cell_type": "code",
   "execution_count": null,
   "id": "9c4558fc-3f43-49b2-8606-0466707af8b2",
   "metadata": {},
   "outputs": [],
   "source": []
  },
  {
   "cell_type": "code",
   "execution_count": null,
   "id": "da1307ee-74e1-4dc8-878f-4c9f556eae5c",
   "metadata": {},
   "outputs": [],
   "source": []
  },
  {
   "cell_type": "code",
   "execution_count": null,
   "id": "b2099380-b23e-4372-8259-8272455f2471",
   "metadata": {},
   "outputs": [],
   "source": []
  },
  {
   "cell_type": "code",
   "execution_count": null,
   "id": "fdfac2b3-4698-4e14-99aa-b777aef34fe2",
   "metadata": {},
   "outputs": [],
   "source": []
  },
  {
   "cell_type": "code",
   "execution_count": null,
   "id": "3b7af417-1dfd-4d56-b91b-65b0a5634057",
   "metadata": {},
   "outputs": [],
   "source": []
  },
  {
   "cell_type": "code",
   "execution_count": null,
   "id": "3b0801e9-5add-4d1f-82d6-58b26d486100",
   "metadata": {},
   "outputs": [],
   "source": []
  },
  {
   "cell_type": "code",
   "execution_count": null,
   "id": "31bccd08-b467-4e7b-adfa-a62cc3d8400f",
   "metadata": {},
   "outputs": [],
   "source": []
  },
  {
   "cell_type": "code",
   "execution_count": null,
   "id": "25a40fad-b920-4577-9fbe-9eee1e5f1d87",
   "metadata": {},
   "outputs": [],
   "source": []
  },
  {
   "cell_type": "code",
   "execution_count": 5,
   "id": "9b042194-45fd-4755-8351-dddec070423e",
   "metadata": {},
   "outputs": [],
   "source": [
    "def extract_from_pdf(pdf_path):\n",
    "    doc = fitz.open(pdf_path)\n",
    "    full_text= \"\"\n",
    "    for pages in doc:\n",
    "        full_text += pages.get_text()\n",
    "    return full_text"
   ]
  },
  {
   "cell_type": "code",
   "execution_count": 6,
   "id": "0686908a-5811-4c07-aa30-cbc3285d73fd",
   "metadata": {},
   "outputs": [],
   "source": [
    "def ask_question(question, combined_text):\n",
    "    model = genai.GenerativeModel(\"models/gemini-2.0-flash\")\n",
    "    prompt= f\"\"\"\n",
    "    You are an expert analyst . Use the following combined pdf data to answer the questions of the user . Give in the clear format.\n",
    "    PDF Data : \n",
    "    \\\"\\\"\\\"{combined_text}\\\"\\\"\\\"\n",
    "    User Question : {question}\n",
    "    Answer :\n",
    "    \"\"\"\n",
    "    response = model.generate_content(prompt)\n",
    "    return response.text.strip()"
   ]
  },
  {
   "cell_type": "code",
   "execution_count": 7,
   "id": "f368573c-502f-456f-86b9-c910f0dc71f5",
   "metadata": {},
   "outputs": [],
   "source": [
    "def process (pdf1, pdf2 , question):\n",
    "    if pdf1 is None or pdf2 is None:\n",
    "        return \"Please Provide PDF \"\n",
    "    if not question.strip():\n",
    "        return \"Please ask me question\"\n",
    "    text1 = extract_from_pdf(pdf1.name)\n",
    "    text2 = extract_from_pdf(pdf2.name)\n",
    "    combined_text = text1 + \"\\n\\n\"  + text2\n",
    "    answer = ask_question(question, combined_text)\n",
    "    return answer"
   ]
  },
  {
   "cell_type": "code",
   "execution_count": 8,
   "id": "ed181c4e-f755-4922-b8bb-9c7dc789a776",
   "metadata": {},
   "outputs": [],
   "source": [
    "with gr.Blocks() as demo:\n",
    "    gr.Markdown(\"*** Welcome to The AI Agent for Analysing PDF ***\")\n",
    "    pdf1 = gr.File(label=\"Upload PDF 1\", file_types=['.pdf'],interactive=True)\n",
    "    pdf2 = gr.File(label=\"Upload PDF 2\", file_types=['.pdf'],interactive=True)\n",
    "    question = gr.Textbox(label=\"Ask Your quetion\",lines=2)\n",
    "    answer = gr.Textbox(label=\"Answer from Gemini\",lines=10)\n",
    "    btn = gr.Button(\"Get Answer from your AI \")\n",
    "    btn.click(process, inputs=[pdf1, pdf2, question],outputs=answer)\n",
    "    "
   ]
  },
  {
   "cell_type": "code",
   "execution_count": 9,
   "id": "3a9939d7-73b0-4cc9-a552-244687a7a074",
   "metadata": {},
   "outputs": [
    {
     "name": "stdout",
     "output_type": "stream",
     "text": [
      "* Running on local URL:  http://127.0.0.1:7860\n",
      "* To create a public link, set `share=True` in `launch()`.\n"
     ]
    },
    {
     "data": {
      "text/html": [
       "<div><iframe src=\"http://127.0.0.1:7860/\" width=\"100%\" height=\"500\" allow=\"autoplay; camera; microphone; clipboard-read; clipboard-write;\" frameborder=\"0\" allowfullscreen></iframe></div>"
      ],
      "text/plain": [
       "<IPython.core.display.HTML object>"
      ]
     },
     "metadata": {},
     "output_type": "display_data"
    },
    {
     "data": {
      "text/plain": []
     },
     "execution_count": 9,
     "metadata": {},
     "output_type": "execute_result"
    }
   ],
   "source": [
    "demo.launch()"
   ]
  },
  {
   "cell_type": "code",
   "execution_count": null,
   "id": "313e05c0-171b-4813-8036-871e58e9ed39",
   "metadata": {},
   "outputs": [],
   "source": []
  }
 ],
 "metadata": {
  "kernelspec": {
   "display_name": "Python 3 (ipykernel)",
   "language": "python",
   "name": "python3"
  },
  "language_info": {
   "codemirror_mode": {
    "name": "ipython",
    "version": 3
   },
   "file_extension": ".py",
   "mimetype": "text/x-python",
   "name": "python",
   "nbconvert_exporter": "python",
   "pygments_lexer": "ipython3",
   "version": "3.12.3"
  }
 },
 "nbformat": 4,
 "nbformat_minor": 5
}
